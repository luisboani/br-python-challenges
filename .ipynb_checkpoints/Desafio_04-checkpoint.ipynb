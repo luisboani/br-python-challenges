{
 "cells": [
  {
   "cell_type": "markdown",
   "metadata": {
    "colab_type": "text",
    "id": "view-in-github"
   },
   "source": [
    "![](https://i.imgur.com/YX6UATs.png)"
   ]
  },
  {
   "cell_type": "markdown",
   "metadata": {
    "colab_type": "text",
    "id": "dOqcKUYZf6JW"
   },
   "source": [
    "### Desafio 4\n",
    "\n",
    "Escreva uma função cuja entrada é uma string e a saída é outra string com as palavras em ordem inversa.\n",
    "\n",
    "Exemplo:\n",
    "\n",
    "inverte_texto(\"Python é legal\") ➞ \"legal é Python\""
   ]
  },
  {
   "cell_type": "code",
   "execution_count": 28,
   "metadata": {},
   "outputs": [],
   "source": [
    "def inverte_texto(texto):\n",
    "    return ' '.join(texto.split()[::-1])"
   ]
  }
 ],
 "metadata": {
  "anaconda-cloud": {},
  "colab": {
   "include_colab_link": true,
   "name": "Desafio 4.ipynb",
   "provenance": []
  },
  "kernelspec": {
   "display_name": "Python 3 (ipykernel)",
   "language": "python",
   "name": "python3"
  },
  "language_info": {
   "codemirror_mode": {
    "name": "ipython",
    "version": 3
   },
   "file_extension": ".py",
   "mimetype": "text/x-python",
   "name": "python",
   "nbconvert_exporter": "python",
   "pygments_lexer": "ipython3",
   "version": "3.10.4"
  }
 },
 "nbformat": 4,
 "nbformat_minor": 1
}

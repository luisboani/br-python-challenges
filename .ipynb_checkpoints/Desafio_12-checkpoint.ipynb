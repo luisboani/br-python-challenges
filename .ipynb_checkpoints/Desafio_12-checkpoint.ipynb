{
 "cells": [
  {
   "cell_type": "markdown",
   "metadata": {
    "colab_type": "text",
    "id": "view-in-github"
   },
   "source": [
    "![](https://i.imgur.com/YX6UATs.png)"
   ]
  },
  {
   "cell_type": "markdown",
   "metadata": {
    "colab_type": "text",
    "id": "AYHY2YXQf6J2"
   },
   "source": [
    "### Desafio 12\n",
    "\n",
    "Escreva uma função em Python para verificar a validade de uma senha.\n",
    "\n",
    "A senha deve ter:\n",
    "\n",
    "* Pelo menos 1 letra entre [a-z] e 1 letra entre [A-Z].\n",
    "* Pelo menos 1 número entre [0-9].\n",
    "* Pelo menos 1 caractere de [$ # @].\n",
    "* Comprimento mínimo de 6 caracteres.\n",
    "* Comprimento máximo de 16 caracteres.\n",
    "\n",
    "Entradas: \"12345678\", \"J3sus0\", \"#Te5t300\", \"J*90j12374\", \"Michheeul\", \"Monk3y6\"\n",
    "\n",
    "A saída deve ser a senha e um texto indicando se a senha é válida ou inválida:\n",
    "\n",
    "```\n",
    "\"1234\" - Senha inválida\n",
    "\"Qw#1234\" - Senha válida\n",
    "```"
   ]
  },
  {
   "cell_type": "code",
   "execution_count": 119,
   "metadata": {},
   "outputs": [],
   "source": [
    "def password_check(list):\n",
    "    for password in list:\n",
    "        valido = True\n",
    "        \n",
    "        print(password)\n",
    "        \n",
    "        if len(password) > 6 and len(password) < 16:\n",
    "            print('check')\n",
    "            valido = False\n",
    "        if '#$' not in password or '#' not in password or '@' not in password:\n",
    "            print('check2')\n",
    "            valido = False\n",
    "        if password.lower() == password:\n",
    "            print('check3')\n",
    "            valido = False\n",
    "            \n",
    "        number = 0 \n",
    "        for letter in password:\n",
    "            if letter.isdigit():\n",
    "                print('check4')\n",
    "                number = 1\n",
    "            \n",
    "            if number == 0:\n",
    "                valido = False\n",
    "                print('check5')\n",
    "\n",
    "        if valido == True:\n",
    "            print(f\"{password} - is valid\")\n",
    "        else:\n",
    "            print(f\"{password} - not valid\")\n",
    "\n",
    "    return "
   ]
  }
 ],
 "metadata": {
  "anaconda-cloud": {},
  "colab": {
   "include_colab_link": true,
   "name": "Desafio 12.ipynb",
   "provenance": []
  },
  "kernelspec": {
   "display_name": "Python 3 (ipykernel)",
   "language": "python",
   "name": "python3"
  },
  "language_info": {
   "codemirror_mode": {
    "name": "ipython",
    "version": 3
   },
   "file_extension": ".py",
   "mimetype": "text/x-python",
   "name": "python",
   "nbconvert_exporter": "python",
   "pygments_lexer": "ipython3",
   "version": "3.10.4"
  }
 },
 "nbformat": 4,
 "nbformat_minor": 1
}
